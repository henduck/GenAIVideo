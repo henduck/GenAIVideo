{
 "cells": [
  {
   "cell_type": "markdown",
   "metadata": {},
   "source": [
    "### Import Libraries"
   ]
  },
  {
   "cell_type": "code",
   "execution_count": null,
   "metadata": {},
   "outputs": [],
   "source": [
    "import uuid\n",
    "import time\n",
    "import requests\n",
    "from openai import OpenAI\n",
    "from runwayml import RunwayML\n",
    "from PIL import Image\n",
    "from IPython.display import display, Video\n",
    "from dotenv import load_dotenv\n",
    "load_dotenv()\n",
    "\n",
    "# The following env variables must be set:\n",
    "# OPENAI_API_KEY\n",
    "# RUNWAYML_API_SECRET"
   ]
  },
  {
   "cell_type": "markdown",
   "metadata": {},
   "source": [
    "### Define Prompts"
   ]
  },
  {
   "cell_type": "code",
   "execution_count": null,
   "metadata": {},
   "outputs": [],
   "source": [
    "img_prompt = \"A cat in a dapper 1940s attire, sipping a frosty glass of beer at a bustling farm-to-table restaurant\"\n",
    "video_prompt = \"The cat is fidgeting anxiously in his chair\""
   ]
  },
  {
   "cell_type": "markdown",
   "metadata": {},
   "source": [
    "### Generate Static Image Using DALL-E"
   ]
  },
  {
   "cell_type": "code",
   "execution_count": null,
   "metadata": {},
   "outputs": [],
   "source": [
    "\n",
    "client = OpenAI()\n",
    "\n",
    "response = client.images.generate(\n",
    "  model=\"dall-e-3\",\n",
    "  prompt=img_prompt,\n",
    "  size=\"1024x1792\",\n",
    "  quality=\"standard\",\n",
    ")\n",
    "\n",
    "image_url = response.data[0].url\n",
    "image = requests.get(image_url)\n",
    "image_name = f\"{uuid.uuid4()}.png\"\n",
    "\n",
    "with open(f\"images/{image_name}\", \"wb\") as file:\n",
    "    file.write(image.content)\n",
    "\n",
    "img = Image.open(f\"images/{image_name}\")\n",
    "img.thumbnail((768, 768))\n",
    "display(img)"
   ]
  },
  {
   "cell_type": "markdown",
   "metadata": {},
   "source": [
    "### Generate Video From Image Using Runway"
   ]
  },
  {
   "cell_type": "code",
   "execution_count": null,
   "metadata": {},
   "outputs": [],
   "source": [
    "runway_client = RunwayML()\n",
    "\n",
    "task = runway_client.image_to_video.create(\n",
    "  model='gen3a_turbo',\n",
    "  duration=5,\n",
    "  ratio='768:1280',\n",
    "  prompt_image=image_url,\n",
    "  prompt_text=video_prompt,\n",
    ")\n",
    "print(task.id)\n",
    "\n",
    "while True:\n",
    "    status_task = runway_client.tasks.retrieve(id=task.id)\n",
    "    if status_task.status != 'RUNNING' and status_task.status != 'PENDING':\n",
    "        break\n",
    "    time.sleep(1)\n",
    "\n",
    "if status_task.status == 'SUCCEEDED':\n",
    "    video_url = status_task.output[0]\n",
    "    print(video_url)\n",
    "    video = requests.get(video_url)\n",
    "    video_name = f\"{image_name}.mp4\"\n",
    "    with open(f\"images/{video_name}\", \"wb\") as file:\n",
    "        file.write(video.content)\n",
    "    display(Video(f\"images/{video_name}\"))\n",
    "else:\n",
    "    print(\"Video generation failed\")"
   ]
  }
 ],
 "metadata": {
  "kernelspec": {
   "display_name": ".venv",
   "language": "python",
   "name": "python3"
  },
  "language_info": {
   "codemirror_mode": {
    "name": "ipython",
    "version": 3
   },
   "file_extension": ".py",
   "mimetype": "text/x-python",
   "name": "python",
   "nbconvert_exporter": "python",
   "pygments_lexer": "ipython3",
   "version": "3.12.7"
  }
 },
 "nbformat": 4,
 "nbformat_minor": 2
}
